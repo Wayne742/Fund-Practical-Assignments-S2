{
 "cells": [
  {
   "cell_type": "markdown",
   "metadata": {},
   "source": [
    "# Fundamentals of Data Analysis Assignment 2018\n",
    "## An investigation of the Anscombes Quartet dataset."
   ]
  },
  {
   "cell_type": "markdown",
   "metadata": {},
   "source": [
    "## 1. Background of Anscombes Quartet\n",
    "\n",
    "The renowned Anscombes Quartet was created by the English statistican Francis John Anscombe. Anscombe (May 1918 - October 2001) lectured in Statistics in Cambridge University in Britian and Princeton University in the US. Later in 1963 he founded the Department of Statistics at Yale University (Wikipedia.org, 2018). \n",
    "\n",
    "Throughout his career he contributed to the fields of statistics and mathematics. Primarily in Randomisation, Probability, Statistical Computing, Economics and Decision Theory (Wikipedia.org, 2018). It was while he was interested in Statistical Computing that he created the well known Anscombe Quartet.\n",
    "\n",
    "Anscombe created the dataset in 1973 to demonstrate the importance of graphing data before analysing it. The dataset also provides examples of how outliers can effect statistical analysis. In his paper \"Graphs in Statistical Analysis\" Anscombe stresses that \"Graphs are essential to good stattical analysis\" (Anscombe 1973).   \n",
    "\n",
    "The quartet itself, as the name suggests, consists of four datasets. Labeled 1 through to 4. Each of the four datasets have X and Y Values. There are eleven X and Y values in each dataset. The X values for the first three datasets are identical and the values range from 4 to 14 inclusive. The X values for the fourth dataest are identical to each other, 8, with one exception, 19. The Y values for each dataset are different.\n",
    "\n",
    "What is the data set? Example / Copy the file into the notebook.\n",
    "\n",
    "What purpose? What speculation is there?\n",
    "Dataset was created to demonstrate the importance of visualising data and to highlight the effect outliers can have on statistical findings (Kim's Blog, 2018) \n",
    "How was it was created?\n"
   ]
  },
  {
   "cell_type": "markdown",
   "metadata": {},
   "source": [
    "## 2. Plot of interesting aspects"
   ]
  },
  {
   "cell_type": "markdown",
   "metadata": {},
   "source": [
    "## 3. Calculation of descriptive statistics"
   ]
  },
  {
   "cell_type": "markdown",
   "metadata": {},
   "source": [
    "## 4. Why is the dataset interesting\n",
    "Its an example of the dangers of summary statistics"
   ]
  },
  {
   "cell_type": "markdown",
   "metadata": {
    "collapsed": true
   },
   "source": [
    "## References\n",
    "\n",
    "Wikipedia.org, Frank Anscombe, accessed on 6th of November 2018, https://en.wikipedia.org/wiki/Frank_Anscombe\n",
    "\n",
    "Wikipedia.org, Anscombe's Quartet, accessed on 6th of November 2018, https://en.wikipedia.org/wiki/Anscombe%27s_quartet\n",
    "\n",
    "Anscombe,F.J.(1973) Graphs in Statistical Analysis. The American Statistican 27(1), 17-21.\n",
    "\n",
    "Kim's Blog, Anscombes Quartet, accessed on 6th of November 2018 http://kimk.dbsdataprojects.com/2016/03/04/anscombes-quartet/\n"
   ]
  },
  {
   "cell_type": "code",
   "execution_count": null,
   "metadata": {
    "collapsed": true
   },
   "outputs": [],
   "source": []
  }
 ],
 "metadata": {
  "kernelspec": {
   "display_name": "Python 3",
   "language": "python",
   "name": "python3"
  },
  "language_info": {
   "codemirror_mode": {
    "name": "ipython",
    "version": 3
   },
   "file_extension": ".py",
   "mimetype": "text/x-python",
   "name": "python",
   "nbconvert_exporter": "python",
   "pygments_lexer": "ipython3",
   "version": "3.6.3"
  }
 },
 "nbformat": 4,
 "nbformat_minor": 2
}
