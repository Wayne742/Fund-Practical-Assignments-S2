{
 "cells": [
  {
   "cell_type": "markdown",
   "metadata": {},
   "source": [
    "# Fundamentals of Data Analysis Assignment 2018\n",
    "## An investigation of the Anscombes Quartet dataset."
   ]
  },
  {
   "cell_type": "markdown",
   "metadata": {},
   "source": [
    "## 1. Background of Anscombes Quartet\n",
    "\n",
    "The renowned Anscombes Quartet was created by the English statistican Francis John Anscombe. Anscombe (May 1918 - October 2001) lectured in Statistics in Cambridge University in Britian and Princeton University in the US. Later in 1963 he founded the Department of Statistics at Yale University (Wikipedia.org, 2018). \n",
    "\n",
    "Throughout his career he contributed to the fields of statistics and mathematics. Primarily in Randomisation, Probability, Statistical Computing, Economics and Decision Theory (Wikipedia.org, 2018). It was while he was interested in Statistical Computing that he created the well known Anscombe Quartet.\n",
    "\n",
    "Anscombe created the dataset in 1973 to demonstrate the importance of graphing data before analysing it. The dataset also provides examples of how outliers can effect statistical analysis. In his paper \"Graphs in Statistical Analysis\" Anscombe stresses that \"Graphs are essential to good statistical analysis\" (Anscombe 1973).   \n",
    "The quartet itself, as the name suggests, consists of four datasets. Labeled 1 through to 4. Each of the four datasets have X and Y Values. There are eleven X and Y values in each dataset. The X values for the first three datasets are identical and the values range from 4 to 14 inclusive. The X values for the fourth dataest are identical to each other, 8, with one exception, 19. The Y values for each dataset are different. \n",
    "\n",
    "Despite several internet searches I cannot find the methodolg employed by Anscombe to geneate the dataset. It seems to be widely accepted that it is not known how he generated the dataset (Chatterjee and Firat, 2007).\n",
    " "
   ]
  },
  {
   "cell_type": "markdown",
   "metadata": {},
   "source": [
    "### Importing Libraries\n",
    "Before I begin the analysis I am importing three libraries for use in this notebook. Numpy and Matplotlib.pyplot are imported in the code cell directly below this one. \n",
    "\n",
    "Numpy is imported as 'np' and Matplotlib.pyplot is imported as 'plt'. Doing this means that when I want to use either library I only have to type 'np' for Numpy or 'plt' for Matplotlib.pyplot rather than use the full names for the respective libraries. It is common practice to import the libraries in this manner.  "
   ]
  },
  {
   "cell_type": "code",
   "execution_count": 1,
   "metadata": {
    "collapsed": true
   },
   "outputs": [],
   "source": [
    "# Importing Numpy and Matplotlib.pyplot.\n",
    "import numpy as np # Importing the Numpy library as np.\n",
    "import matplotlib.pyplot as plt # Importing the Matplotlib.pyplot as plt."
   ]
  },
  {
   "cell_type": "markdown",
   "metadata": {},
   "source": [
    "### The Pandas Library\n",
    "I am also using the Python library Pandas to carry out some of the analysis in this notebook. \n",
    "\n",
    "Pandas is a Python Libary \"providing fast, flexible, and expressive data structures\" (pandas.pydata.org,2018). According to the library documentation Pandas is well suited to different kinds of data, including tabular data, such as that found in an SQL table or an Excel spreadsheet, and arbitrary matrix data with row and column labels (pandas.pydata.org,2018).\n",
    "\n",
    "Pandas has two primary data structures, Series and DataFrame (pandas.pydata.org,2018). \n",
    "\n",
    "In the code cell below I have used the import command to import the Pandas Library. I have imported Pandas as 'pd'."
   ]
  },
  {
   "cell_type": "code",
   "execution_count": 2,
   "metadata": {
    "collapsed": true
   },
   "outputs": [],
   "source": [
    "# Import pandas.\n",
    "import pandas as pd # Importing Pandas as pd."
   ]
  },
  {
   "cell_type": "markdown",
   "metadata": {},
   "source": [
    "### Reading in the dataset and displaying it."
   ]
  },
  {
   "cell_type": "code",
   "execution_count": 3,
   "metadata": {
    "collapsed": true
   },
   "outputs": [],
   "source": [
    "# Using the Pandas read command to load Anscombes Quartet Dataset.\n",
    "df = pd.read_csv(\"https://gist.githubusercontent.com/ericbusboom/b2ac1d366c005cd2ed8c/raw/c92c66e43d144fa9c29dbd602d5af6988e8db533/anscombes.csv\")"
   ]
  },
  {
   "cell_type": "code",
   "execution_count": 4,
   "metadata": {},
   "outputs": [
    {
     "data": {
      "text/html": [
       "<div>\n",
       "<style>\n",
       "    .dataframe thead tr:only-child th {\n",
       "        text-align: right;\n",
       "    }\n",
       "\n",
       "    .dataframe thead th {\n",
       "        text-align: left;\n",
       "    }\n",
       "\n",
       "    .dataframe tbody tr th {\n",
       "        vertical-align: top;\n",
       "    }\n",
       "</style>\n",
       "<table border=\"1\" class=\"dataframe\">\n",
       "  <thead>\n",
       "    <tr style=\"text-align: right;\">\n",
       "      <th></th>\n",
       "      <th>id</th>\n",
       "      <th>dataset</th>\n",
       "      <th>x</th>\n",
       "      <th>y</th>\n",
       "    </tr>\n",
       "  </thead>\n",
       "  <tbody>\n",
       "    <tr>\n",
       "      <th>0</th>\n",
       "      <td>0</td>\n",
       "      <td>I</td>\n",
       "      <td>10.0</td>\n",
       "      <td>8.04</td>\n",
       "    </tr>\n",
       "    <tr>\n",
       "      <th>1</th>\n",
       "      <td>1</td>\n",
       "      <td>I</td>\n",
       "      <td>8.0</td>\n",
       "      <td>6.95</td>\n",
       "    </tr>\n",
       "    <tr>\n",
       "      <th>2</th>\n",
       "      <td>2</td>\n",
       "      <td>I</td>\n",
       "      <td>13.0</td>\n",
       "      <td>7.58</td>\n",
       "    </tr>\n",
       "    <tr>\n",
       "      <th>3</th>\n",
       "      <td>3</td>\n",
       "      <td>I</td>\n",
       "      <td>9.0</td>\n",
       "      <td>8.81</td>\n",
       "    </tr>\n",
       "    <tr>\n",
       "      <th>4</th>\n",
       "      <td>4</td>\n",
       "      <td>I</td>\n",
       "      <td>11.0</td>\n",
       "      <td>8.33</td>\n",
       "    </tr>\n",
       "    <tr>\n",
       "      <th>5</th>\n",
       "      <td>5</td>\n",
       "      <td>I</td>\n",
       "      <td>14.0</td>\n",
       "      <td>9.96</td>\n",
       "    </tr>\n",
       "    <tr>\n",
       "      <th>6</th>\n",
       "      <td>6</td>\n",
       "      <td>I</td>\n",
       "      <td>6.0</td>\n",
       "      <td>7.24</td>\n",
       "    </tr>\n",
       "    <tr>\n",
       "      <th>7</th>\n",
       "      <td>7</td>\n",
       "      <td>I</td>\n",
       "      <td>4.0</td>\n",
       "      <td>4.26</td>\n",
       "    </tr>\n",
       "    <tr>\n",
       "      <th>8</th>\n",
       "      <td>8</td>\n",
       "      <td>I</td>\n",
       "      <td>12.0</td>\n",
       "      <td>10.84</td>\n",
       "    </tr>\n",
       "    <tr>\n",
       "      <th>9</th>\n",
       "      <td>9</td>\n",
       "      <td>I</td>\n",
       "      <td>7.0</td>\n",
       "      <td>4.82</td>\n",
       "    </tr>\n",
       "    <tr>\n",
       "      <th>10</th>\n",
       "      <td>10</td>\n",
       "      <td>I</td>\n",
       "      <td>5.0</td>\n",
       "      <td>5.68</td>\n",
       "    </tr>\n",
       "    <tr>\n",
       "      <th>11</th>\n",
       "      <td>11</td>\n",
       "      <td>II</td>\n",
       "      <td>10.0</td>\n",
       "      <td>9.14</td>\n",
       "    </tr>\n",
       "    <tr>\n",
       "      <th>12</th>\n",
       "      <td>12</td>\n",
       "      <td>II</td>\n",
       "      <td>8.0</td>\n",
       "      <td>8.14</td>\n",
       "    </tr>\n",
       "    <tr>\n",
       "      <th>13</th>\n",
       "      <td>13</td>\n",
       "      <td>II</td>\n",
       "      <td>13.0</td>\n",
       "      <td>8.74</td>\n",
       "    </tr>\n",
       "    <tr>\n",
       "      <th>14</th>\n",
       "      <td>14</td>\n",
       "      <td>II</td>\n",
       "      <td>9.0</td>\n",
       "      <td>8.77</td>\n",
       "    </tr>\n",
       "    <tr>\n",
       "      <th>15</th>\n",
       "      <td>15</td>\n",
       "      <td>II</td>\n",
       "      <td>11.0</td>\n",
       "      <td>9.26</td>\n",
       "    </tr>\n",
       "    <tr>\n",
       "      <th>16</th>\n",
       "      <td>16</td>\n",
       "      <td>II</td>\n",
       "      <td>14.0</td>\n",
       "      <td>8.10</td>\n",
       "    </tr>\n",
       "    <tr>\n",
       "      <th>17</th>\n",
       "      <td>17</td>\n",
       "      <td>II</td>\n",
       "      <td>6.0</td>\n",
       "      <td>6.13</td>\n",
       "    </tr>\n",
       "    <tr>\n",
       "      <th>18</th>\n",
       "      <td>18</td>\n",
       "      <td>II</td>\n",
       "      <td>4.0</td>\n",
       "      <td>3.10</td>\n",
       "    </tr>\n",
       "    <tr>\n",
       "      <th>19</th>\n",
       "      <td>19</td>\n",
       "      <td>II</td>\n",
       "      <td>12.0</td>\n",
       "      <td>9.13</td>\n",
       "    </tr>\n",
       "    <tr>\n",
       "      <th>20</th>\n",
       "      <td>20</td>\n",
       "      <td>II</td>\n",
       "      <td>7.0</td>\n",
       "      <td>7.26</td>\n",
       "    </tr>\n",
       "    <tr>\n",
       "      <th>21</th>\n",
       "      <td>21</td>\n",
       "      <td>II</td>\n",
       "      <td>5.0</td>\n",
       "      <td>4.74</td>\n",
       "    </tr>\n",
       "    <tr>\n",
       "      <th>22</th>\n",
       "      <td>22</td>\n",
       "      <td>III</td>\n",
       "      <td>10.0</td>\n",
       "      <td>7.46</td>\n",
       "    </tr>\n",
       "    <tr>\n",
       "      <th>23</th>\n",
       "      <td>23</td>\n",
       "      <td>III</td>\n",
       "      <td>8.0</td>\n",
       "      <td>6.77</td>\n",
       "    </tr>\n",
       "    <tr>\n",
       "      <th>24</th>\n",
       "      <td>24</td>\n",
       "      <td>III</td>\n",
       "      <td>13.0</td>\n",
       "      <td>12.74</td>\n",
       "    </tr>\n",
       "    <tr>\n",
       "      <th>25</th>\n",
       "      <td>25</td>\n",
       "      <td>III</td>\n",
       "      <td>9.0</td>\n",
       "      <td>7.11</td>\n",
       "    </tr>\n",
       "    <tr>\n",
       "      <th>26</th>\n",
       "      <td>26</td>\n",
       "      <td>III</td>\n",
       "      <td>11.0</td>\n",
       "      <td>7.81</td>\n",
       "    </tr>\n",
       "    <tr>\n",
       "      <th>27</th>\n",
       "      <td>27</td>\n",
       "      <td>III</td>\n",
       "      <td>14.0</td>\n",
       "      <td>8.84</td>\n",
       "    </tr>\n",
       "    <tr>\n",
       "      <th>28</th>\n",
       "      <td>28</td>\n",
       "      <td>III</td>\n",
       "      <td>6.0</td>\n",
       "      <td>6.08</td>\n",
       "    </tr>\n",
       "    <tr>\n",
       "      <th>29</th>\n",
       "      <td>29</td>\n",
       "      <td>III</td>\n",
       "      <td>4.0</td>\n",
       "      <td>5.39</td>\n",
       "    </tr>\n",
       "    <tr>\n",
       "      <th>30</th>\n",
       "      <td>30</td>\n",
       "      <td>III</td>\n",
       "      <td>12.0</td>\n",
       "      <td>8.15</td>\n",
       "    </tr>\n",
       "    <tr>\n",
       "      <th>31</th>\n",
       "      <td>31</td>\n",
       "      <td>III</td>\n",
       "      <td>7.0</td>\n",
       "      <td>6.42</td>\n",
       "    </tr>\n",
       "    <tr>\n",
       "      <th>32</th>\n",
       "      <td>32</td>\n",
       "      <td>III</td>\n",
       "      <td>5.0</td>\n",
       "      <td>5.73</td>\n",
       "    </tr>\n",
       "    <tr>\n",
       "      <th>33</th>\n",
       "      <td>33</td>\n",
       "      <td>IV</td>\n",
       "      <td>8.0</td>\n",
       "      <td>6.58</td>\n",
       "    </tr>\n",
       "    <tr>\n",
       "      <th>34</th>\n",
       "      <td>34</td>\n",
       "      <td>IV</td>\n",
       "      <td>8.0</td>\n",
       "      <td>5.76</td>\n",
       "    </tr>\n",
       "    <tr>\n",
       "      <th>35</th>\n",
       "      <td>35</td>\n",
       "      <td>IV</td>\n",
       "      <td>8.0</td>\n",
       "      <td>7.71</td>\n",
       "    </tr>\n",
       "    <tr>\n",
       "      <th>36</th>\n",
       "      <td>36</td>\n",
       "      <td>IV</td>\n",
       "      <td>8.0</td>\n",
       "      <td>8.84</td>\n",
       "    </tr>\n",
       "    <tr>\n",
       "      <th>37</th>\n",
       "      <td>37</td>\n",
       "      <td>IV</td>\n",
       "      <td>8.0</td>\n",
       "      <td>8.47</td>\n",
       "    </tr>\n",
       "    <tr>\n",
       "      <th>38</th>\n",
       "      <td>38</td>\n",
       "      <td>IV</td>\n",
       "      <td>8.0</td>\n",
       "      <td>7.04</td>\n",
       "    </tr>\n",
       "    <tr>\n",
       "      <th>39</th>\n",
       "      <td>39</td>\n",
       "      <td>IV</td>\n",
       "      <td>8.0</td>\n",
       "      <td>5.25</td>\n",
       "    </tr>\n",
       "    <tr>\n",
       "      <th>40</th>\n",
       "      <td>40</td>\n",
       "      <td>IV</td>\n",
       "      <td>19.0</td>\n",
       "      <td>12.50</td>\n",
       "    </tr>\n",
       "    <tr>\n",
       "      <th>41</th>\n",
       "      <td>41</td>\n",
       "      <td>IV</td>\n",
       "      <td>8.0</td>\n",
       "      <td>5.56</td>\n",
       "    </tr>\n",
       "    <tr>\n",
       "      <th>42</th>\n",
       "      <td>42</td>\n",
       "      <td>IV</td>\n",
       "      <td>8.0</td>\n",
       "      <td>7.91</td>\n",
       "    </tr>\n",
       "    <tr>\n",
       "      <th>43</th>\n",
       "      <td>43</td>\n",
       "      <td>IV</td>\n",
       "      <td>8.0</td>\n",
       "      <td>6.89</td>\n",
       "    </tr>\n",
       "  </tbody>\n",
       "</table>\n",
       "</div>"
      ],
      "text/plain": [
       "    id dataset     x      y\n",
       "0    0       I  10.0   8.04\n",
       "1    1       I   8.0   6.95\n",
       "2    2       I  13.0   7.58\n",
       "3    3       I   9.0   8.81\n",
       "4    4       I  11.0   8.33\n",
       "5    5       I  14.0   9.96\n",
       "6    6       I   6.0   7.24\n",
       "7    7       I   4.0   4.26\n",
       "8    8       I  12.0  10.84\n",
       "9    9       I   7.0   4.82\n",
       "10  10       I   5.0   5.68\n",
       "11  11      II  10.0   9.14\n",
       "12  12      II   8.0   8.14\n",
       "13  13      II  13.0   8.74\n",
       "14  14      II   9.0   8.77\n",
       "15  15      II  11.0   9.26\n",
       "16  16      II  14.0   8.10\n",
       "17  17      II   6.0   6.13\n",
       "18  18      II   4.0   3.10\n",
       "19  19      II  12.0   9.13\n",
       "20  20      II   7.0   7.26\n",
       "21  21      II   5.0   4.74\n",
       "22  22     III  10.0   7.46\n",
       "23  23     III   8.0   6.77\n",
       "24  24     III  13.0  12.74\n",
       "25  25     III   9.0   7.11\n",
       "26  26     III  11.0   7.81\n",
       "27  27     III  14.0   8.84\n",
       "28  28     III   6.0   6.08\n",
       "29  29     III   4.0   5.39\n",
       "30  30     III  12.0   8.15\n",
       "31  31     III   7.0   6.42\n",
       "32  32     III   5.0   5.73\n",
       "33  33      IV   8.0   6.58\n",
       "34  34      IV   8.0   5.76\n",
       "35  35      IV   8.0   7.71\n",
       "36  36      IV   8.0   8.84\n",
       "37  37      IV   8.0   8.47\n",
       "38  38      IV   8.0   7.04\n",
       "39  39      IV   8.0   5.25\n",
       "40  40      IV  19.0  12.50\n",
       "41  41      IV   8.0   5.56\n",
       "42  42      IV   8.0   7.91\n",
       "43  43      IV   8.0   6.89"
      ]
     },
     "execution_count": 4,
     "metadata": {},
     "output_type": "execute_result"
    }
   ],
   "source": [
    "# Displaying the data.\n",
    "# Typing df into this code cell and running it, the dataest that was loaded in the previous cell is displayed below.\n",
    "df"
   ]
  },
  {
   "cell_type": "markdown",
   "metadata": {},
   "source": [
    "## 2. Plot of the interesting aspects"
   ]
  },
  {
   "cell_type": "markdown",
   "metadata": {},
   "source": [
    "#### Plot of Dataset I\n",
    "Add description here"
   ]
  },
  {
   "cell_type": "code",
   "execution_count": 5,
   "metadata": {},
   "outputs": [
    {
     "data": {
      "image/png": "[encoded data removed]",
      "text/plain": [
       "<matplotlib.figure.Figure at 0x112413e80>"
      ]
     },
     "metadata": {},
     "output_type": "display_data"
    }
   ],
   "source": [
    "x = df.loc[0:10, 'x']\n",
    "y = df.loc[0:10, 'y']\n",
    "plt.scatter(x,y) # Code to generate the Scatter plot.\n",
    "plt.plot([4, 14], [4.26, 10.84],'r') # Code for the reference line. Colour set to red 'r'.\n",
    "plt.axis([2, 16, 2, 14]) # Set the values for both the X and Y axis.\n",
    "plt.title('Dataset I') \n",
    "plt.xlabel('X 0 : 10')\n",
    "plt.ylabel('Y 0 : 10')\n",
    "plt.show()"
   ]
  },
  {
   "cell_type": "markdown",
   "metadata": {},
   "source": [
    "#### Plot of Dataset II\n",
    "Add description here"
   ]
  },
  {
   "cell_type": "code",
   "execution_count": 6,
   "metadata": {},
   "outputs": [
    {
     "data": {
      "image/png": "[encoded data removed]",
      "text/plain": [
       "<matplotlib.figure.Figure at 0x11740f748>"
      ]
     },
     "metadata": {},
     "output_type": "display_data"
    }
   ],
   "source": [
    "x = df.loc[11:21, 'x']\n",
    "y = df.loc[11:21, 'y']\n",
    "plt.scatter(x,y)\n",
    "plt.plot([4, 14], [4.26, 10.84],'r') # Code for the reference line. Colour set to red 'r'.\n",
    "plt.axis([2, 16, 2, 14]) # Set the values for both the X and Y axis.\n",
    "plt.title('Dataset II')\n",
    "plt.xlabel('X 11 : 21')\n",
    "plt.ylabel('Y 11 : 21')\n",
    "plt.show()"
   ]
  },
  {
   "cell_type": "markdown",
   "metadata": {},
   "source": [
    "#### Plot of Dataset III\n",
    "Add description here"
   ]
  },
  {
   "cell_type": "code",
   "execution_count": 7,
   "metadata": {},
   "outputs": [
    {
     "data": {
      "image/png": "[encoded data removed]",
      "text/plain": [
       "<matplotlib.figure.Figure at 0x11740f898>"
      ]
     },
     "metadata": {},
     "output_type": "display_data"
    }
   ],
   "source": [
    "x = df.loc[22:32, 'x']\n",
    "y = df.loc[22:32, 'y']\n",
    "plt.scatter(x,y)\n",
    "plt.plot([4, 14], [4.26, 10.84],'r') # Code for the reference line. Colour set to red 'r'.\n",
    "plt.axis([2, 16, 2, 14]) # Set the values for both the X and Y axis.\n",
    "plt.title('Dataset III')\n",
    "plt.xlabel('X 22 : 32')\n",
    "plt.ylabel('Y 22 : 32')\n",
    "plt.show()"
   ]
  },
  {
   "cell_type": "markdown",
   "metadata": {},
   "source": [
    "#### Plot of Dataset IV\n",
    "Add description here"
   ]
  },
  {
   "cell_type": "code",
   "execution_count": 8,
   "metadata": {},
   "outputs": [
    {
     "data": {
      "image/png": "[encoded data removed]",
      "text/plain": [
       "<matplotlib.figure.Figure at 0x117467320>"
      ]
     },
     "metadata": {},
     "output_type": "display_data"
    }
   ],
   "source": [
    "x = df.loc[33:43, 'x']\n",
    "y = df.loc[33:43, 'y']\n",
    "plt.scatter(x,y)\n",
    "plt.plot([4, 14], [4.26, 10.84],'r') # Code for the reference line. Colour set to red 'r'.\n",
    "plt.axis([2, 20, 2, 14]) # Set the values for both the X and Y axis.\n",
    "plt.title('Dataset IV')\n",
    "plt.xlabel('X 33 : 43')\n",
    "plt.ylabel('Y 33 : 43')\n",
    "plt.show()"
   ]
  },
  {
   "cell_type": "markdown",
   "metadata": {},
   "source": [
    "### The Quartet ...(All together now!)"
   ]
  },
  {
   "cell_type": "code",
   "execution_count": 9,
   "metadata": {},
   "outputs": [
    {
     "data": {
      "image/png": "[encoded data removed]",
      "text/plain": [
       "<matplotlib.figure.Figure at 0x1176e1ac8>"
      ]
     },
     "metadata": {},
     "output_type": "display_data"
    }
   ],
   "source": [
    "plt.figure(1, figsize=(20,15))\n",
    "plt.suptitle('Anscombes Quartet')\n",
    "\n",
    "plt.subplot(221)\n",
    "x = df.loc[0:10, 'x']\n",
    "y = df.loc[0:10, 'y']\n",
    "plt.scatter(x,y) # Code to generate the Scatter plot.\n",
    "plt.plot([4, 14], [4.26, 10.84],'r') # Code for the reference line. Colour set to red 'r'.\n",
    "plt.axis([2, 16, 2, 14]) # Set the values for both the X and Y axis.\n",
    "plt.title('Dataset I') \n",
    "plt.xlabel('X 0 : 10')\n",
    "plt.ylabel('Y 0 : 10')\n",
    "\n",
    "plt.subplot(222)\n",
    "x = df.loc[11:21, 'x']\n",
    "y = df.loc[11:21, 'y']\n",
    "plt.scatter(x,y)\n",
    "plt.plot([4, 14], [4.26, 10.84],'r') # Code for the reference line. Colour set to red 'r'.\n",
    "plt.axis([2, 16, 2, 14]) # Set the values for both the X and Y axis.\n",
    "plt.title('Dataset II')\n",
    "plt.xlabel('X 11 : 21')\n",
    "plt.ylabel('Y 11 : 21')\n",
    "\n",
    "plt.subplot(223)\n",
    "x = df.loc[22:32, 'x']\n",
    "y = df.loc[22:32, 'y']\n",
    "plt.scatter(x,y)\n",
    "plt.plot([4, 14], [4.26, 10.84],'r') # Code for the reference line. Colour set to red 'r'.\n",
    "plt.axis([2, 16, 2, 14]) # Set the values for both the X and Y axis.\n",
    "plt.title('Dataset III')\n",
    "plt.xlabel('X 22 : 32')\n",
    "plt.ylabel('Y 22 : 32')\n",
    "\n",
    "plt.subplot(224)\n",
    "x = df.loc[33:43, 'x']\n",
    "y = df.loc[33:43, 'y']\n",
    "plt.scatter(x,y)\n",
    "plt.plot([4, 14], [4.26, 10.84],'r') # Code for the reference line. Colour set to red 'r'.\n",
    "plt.axis([2, 20, 2, 14]) # Set the values for both the X and Y axis.\n",
    "plt.title('Dataset IV')\n",
    "plt.xlabel('X 33 : 43')\n",
    "plt.ylabel('Y 33 : 43')\n",
    "\n",
    "plt.show() # Using the plt.show() command to display the plots."
   ]
  },
  {
   "cell_type": "markdown",
   "metadata": {},
   "source": [
    "## 3. Calculation of Descriptive Statistics."
   ]
  },
  {
   "cell_type": "markdown",
   "metadata": {},
   "source": [
    "interesting site on the data sets descriptive stats\n",
    "https://rstudio-pubs-static.s3.amazonaws.com/52381_36ec82827e4b476fb968d9143aec7c4f.html"
   ]
  },
  {
   "cell_type": "markdown",
   "metadata": {},
   "source": [
    "### 3.1 What are Descriptive Statistics.\n",
    "Descriptive Statistics are numbers that are used to summarise and describe data (onlinestatbook.com,2018). Unlike Inferential Statistics they are not used to make any generalisations or inferences about what the data is telling us, rather Descriptive Statistics just describe the data, they do not draw conclusions. Often several descriptive statistics are used to give an overall impression of the data. "
   ]
  },
  {
   "cell_type": "markdown",
   "metadata": {},
   "source": [
    "### 3.2 Types of Descriptive Statistics.\n",
    "According to my research there are four types of Descriptive Statistics.\n",
    "\n",
    "#### 1. Measures of Frequecny.\n",
    "Shows how often something occurs.\n",
    "Count, Percent, Frequency.\n",
    "#### 2. Measures of Cenral Tendency.\n",
    "Locates the distribution of the data.\n",
    "Mean, Median, Mode.\n",
    "#### 3. Measures of Dispersion or Variation.\n",
    "Identifies the spread of the data by stating intervals.\n",
    "Range, Variance, Standard Deviation.\n",
    "#### 4. Measures of Position.\n",
    "Describes how data falls in relation to one another.\n",
    "Percentile Ranks, Quartile Ranks.\n",
    "    \n",
    "(Campuslabs.com,2018)    "
   ]
  },
  {
   "cell_type": "markdown",
   "metadata": {},
   "source": [
    "### 3.3 Pandas .describe.\n",
    "I have used Pandas to calculate the Descriptive Statistics for the entire dataset for Anscombes Quartet. In the next cell I use the .describe function to gererate the descriptive statistics. This function returns the following eight descriptive statistics:\n",
    "\n",
    "#### 1. Count.\n",
    "This function retuns a count of all the non-null values in the data frame. This can be applied to rows and columns. An example of Measures of Frequency.\n",
    "\n",
    "#### 2. Mean.\n",
    "Returns the mean for the values in the data frame. An example of Measures of Central Tendency.\n",
    "\n",
    "#### 3. Std or Standard Deviation.\n",
    "Returns the standard deviation for the data frame. An example of Measures of Dispersion.\n",
    "\n",
    "#### 4. Min or Minimum.\n",
    "Returns the lowest or minimum value of all the values in the data frame. An example of Measures of Position.\n",
    "\n",
    "#### 5. 25%.\n",
    "An example of Measures of Position. This function returns the 25th percentile for the data frame. This means that for a given data frame 25% of the values are lower than the value returned. \n",
    "\n",
    "#### 6. 50%.\n",
    "An example of Measures of Position. This function returns the 50th percentile for the data frame. This means that for a given data frame 50% of the values are lower than the value returned.\n",
    "\n",
    "#### 7. 75%.\n",
    "An example of Measures of Position. This function returns the 75th percentile for the data frame. This means that for a given data frame 75% of the values are lower than the value returned.\n",
    "\n",
    "#### 8. Max or Maximum.\n",
    "Returns the maximum value for the values in the data frame. An example of Measures of Position.\n",
    "\n",
    "(pandas.pydata.org,2018)"
   ]
  },
  {
   "cell_type": "code",
   "execution_count": 10,
   "metadata": {},
   "outputs": [
    {
     "data": {
      "text/html": [
       "<div>\n",
       "<style>\n",
       "    .dataframe thead tr:only-child th {\n",
       "        text-align: right;\n",
       "    }\n",
       "\n",
       "    .dataframe thead th {\n",
       "        text-align: left;\n",
       "    }\n",
       "\n",
       "    .dataframe tbody tr th {\n",
       "        vertical-align: top;\n",
       "    }\n",
       "</style>\n",
       "<table border=\"1\" class=\"dataframe\">\n",
       "  <thead>\n",
       "    <tr style=\"text-align: right;\">\n",
       "      <th></th>\n",
       "      <th>id</th>\n",
       "      <th>x</th>\n",
       "      <th>y</th>\n",
       "    </tr>\n",
       "  </thead>\n",
       "  <tbody>\n",
       "    <tr>\n",
       "      <th>count</th>\n",
       "      <td>44.000000</td>\n",
       "      <td>44.000000</td>\n",
       "      <td>44.000000</td>\n",
       "    </tr>\n",
       "    <tr>\n",
       "      <th>mean</th>\n",
       "      <td>21.500000</td>\n",
       "      <td>9.000000</td>\n",
       "      <td>7.500682</td>\n",
       "    </tr>\n",
       "    <tr>\n",
       "      <th>std</th>\n",
       "      <td>12.845233</td>\n",
       "      <td>3.198837</td>\n",
       "      <td>1.958925</td>\n",
       "    </tr>\n",
       "    <tr>\n",
       "      <th>min</th>\n",
       "      <td>0.000000</td>\n",
       "      <td>4.000000</td>\n",
       "      <td>3.100000</td>\n",
       "    </tr>\n",
       "    <tr>\n",
       "      <th>25%</th>\n",
       "      <td>10.750000</td>\n",
       "      <td>7.000000</td>\n",
       "      <td>6.117500</td>\n",
       "    </tr>\n",
       "    <tr>\n",
       "      <th>50%</th>\n",
       "      <td>21.500000</td>\n",
       "      <td>8.000000</td>\n",
       "      <td>7.520000</td>\n",
       "    </tr>\n",
       "    <tr>\n",
       "      <th>75%</th>\n",
       "      <td>32.250000</td>\n",
       "      <td>11.000000</td>\n",
       "      <td>8.747500</td>\n",
       "    </tr>\n",
       "    <tr>\n",
       "      <th>max</th>\n",
       "      <td>43.000000</td>\n",
       "      <td>19.000000</td>\n",
       "      <td>12.740000</td>\n",
       "    </tr>\n",
       "  </tbody>\n",
       "</table>\n",
       "</div>"
      ],
      "text/plain": [
       "              id          x          y\n",
       "count  44.000000  44.000000  44.000000\n",
       "mean   21.500000   9.000000   7.500682\n",
       "std    12.845233   3.198837   1.958925\n",
       "min     0.000000   4.000000   3.100000\n",
       "25%    10.750000   7.000000   6.117500\n",
       "50%    21.500000   8.000000   7.520000\n",
       "75%    32.250000  11.000000   8.747500\n",
       "max    43.000000  19.000000  12.740000"
      ]
     },
     "execution_count": 10,
     "metadata": {},
     "output_type": "execute_result"
    }
   ],
   "source": [
    "# Using the Pandas .describe command.\n",
    "df.describe() # This command calculates the \"descriptive statistics\" of the data set."
   ]
  },
  {
   "cell_type": "markdown",
   "metadata": {},
   "source": [
    "### 3.4 Pandas Heads & Tails.\n",
    "Anscombes Quartet is a small dataset, comprising only 44 rows and three columns of values. Because of it's small size it is fairly easy to verify the data within. I didn't necessarily need to use the Head or Tail function.\n",
    "\n",
    "The .head function displays the first n rows of the data frame (pandas.pydata.org,2018). The default is set to five. If you put a number between the brackets the function will return that number of rows. For example the second code cell below shows the head function used with seven in the brackets. This returns the first seven rows of the data frame. \n",
    "\n",
    "The .tail function displays the last n rows of the data frame (pandas.pydata.org,2018). Similar the the head function, the default for tail also is to return the first five rows."
   ]
  },
  {
   "cell_type": "code",
   "execution_count": 90,
   "metadata": {},
   "outputs": [
    {
     "data": {
      "text/html": [
       "<div>\n",
       "<style>\n",
       "    .dataframe thead tr:only-child th {\n",
       "        text-align: right;\n",
       "    }\n",
       "\n",
       "    .dataframe thead th {\n",
       "        text-align: left;\n",
       "    }\n",
       "\n",
       "    .dataframe tbody tr th {\n",
       "        vertical-align: top;\n",
       "    }\n",
       "</style>\n",
       "<table border=\"1\" class=\"dataframe\">\n",
       "  <thead>\n",
       "    <tr style=\"text-align: right;\">\n",
       "      <th></th>\n",
       "      <th>id</th>\n",
       "      <th>dataset</th>\n",
       "      <th>x</th>\n",
       "      <th>y</th>\n",
       "    </tr>\n",
       "  </thead>\n",
       "  <tbody>\n",
       "    <tr>\n",
       "      <th>0</th>\n",
       "      <td>0</td>\n",
       "      <td>I</td>\n",
       "      <td>10.0</td>\n",
       "      <td>8.04</td>\n",
       "    </tr>\n",
       "    <tr>\n",
       "      <th>1</th>\n",
       "      <td>1</td>\n",
       "      <td>I</td>\n",
       "      <td>8.0</td>\n",
       "      <td>6.95</td>\n",
       "    </tr>\n",
       "    <tr>\n",
       "      <th>2</th>\n",
       "      <td>2</td>\n",
       "      <td>I</td>\n",
       "      <td>13.0</td>\n",
       "      <td>7.58</td>\n",
       "    </tr>\n",
       "    <tr>\n",
       "      <th>3</th>\n",
       "      <td>3</td>\n",
       "      <td>I</td>\n",
       "      <td>9.0</td>\n",
       "      <td>8.81</td>\n",
       "    </tr>\n",
       "    <tr>\n",
       "      <th>4</th>\n",
       "      <td>4</td>\n",
       "      <td>I</td>\n",
       "      <td>11.0</td>\n",
       "      <td>8.33</td>\n",
       "    </tr>\n",
       "  </tbody>\n",
       "</table>\n",
       "</div>"
      ],
      "text/plain": [
       "   id dataset     x     y\n",
       "0   0       I  10.0  8.04\n",
       "1   1       I   8.0  6.95\n",
       "2   2       I  13.0  7.58\n",
       "3   3       I   9.0  8.81\n",
       "4   4       I  11.0  8.33"
      ]
     },
     "execution_count": 90,
     "metadata": {},
     "output_type": "execute_result"
    }
   ],
   "source": [
    "df.head()"
   ]
  },
  {
   "cell_type": "code",
   "execution_count": 91,
   "metadata": {},
   "outputs": [
    {
     "data": {
      "text/html": [
       "<div>\n",
       "<style>\n",
       "    .dataframe thead tr:only-child th {\n",
       "        text-align: right;\n",
       "    }\n",
       "\n",
       "    .dataframe thead th {\n",
       "        text-align: left;\n",
       "    }\n",
       "\n",
       "    .dataframe tbody tr th {\n",
       "        vertical-align: top;\n",
       "    }\n",
       "</style>\n",
       "<table border=\"1\" class=\"dataframe\">\n",
       "  <thead>\n",
       "    <tr style=\"text-align: right;\">\n",
       "      <th></th>\n",
       "      <th>id</th>\n",
       "      <th>dataset</th>\n",
       "      <th>x</th>\n",
       "      <th>y</th>\n",
       "    </tr>\n",
       "  </thead>\n",
       "  <tbody>\n",
       "    <tr>\n",
       "      <th>0</th>\n",
       "      <td>0</td>\n",
       "      <td>I</td>\n",
       "      <td>10.0</td>\n",
       "      <td>8.04</td>\n",
       "    </tr>\n",
       "    <tr>\n",
       "      <th>1</th>\n",
       "      <td>1</td>\n",
       "      <td>I</td>\n",
       "      <td>8.0</td>\n",
       "      <td>6.95</td>\n",
       "    </tr>\n",
       "    <tr>\n",
       "      <th>2</th>\n",
       "      <td>2</td>\n",
       "      <td>I</td>\n",
       "      <td>13.0</td>\n",
       "      <td>7.58</td>\n",
       "    </tr>\n",
       "    <tr>\n",
       "      <th>3</th>\n",
       "      <td>3</td>\n",
       "      <td>I</td>\n",
       "      <td>9.0</td>\n",
       "      <td>8.81</td>\n",
       "    </tr>\n",
       "    <tr>\n",
       "      <th>4</th>\n",
       "      <td>4</td>\n",
       "      <td>I</td>\n",
       "      <td>11.0</td>\n",
       "      <td>8.33</td>\n",
       "    </tr>\n",
       "    <tr>\n",
       "      <th>5</th>\n",
       "      <td>5</td>\n",
       "      <td>I</td>\n",
       "      <td>14.0</td>\n",
       "      <td>9.96</td>\n",
       "    </tr>\n",
       "    <tr>\n",
       "      <th>6</th>\n",
       "      <td>6</td>\n",
       "      <td>I</td>\n",
       "      <td>6.0</td>\n",
       "      <td>7.24</td>\n",
       "    </tr>\n",
       "  </tbody>\n",
       "</table>\n",
       "</div>"
      ],
      "text/plain": [
       "   id dataset     x     y\n",
       "0   0       I  10.0  8.04\n",
       "1   1       I   8.0  6.95\n",
       "2   2       I  13.0  7.58\n",
       "3   3       I   9.0  8.81\n",
       "4   4       I  11.0  8.33\n",
       "5   5       I  14.0  9.96\n",
       "6   6       I   6.0  7.24"
      ]
     },
     "execution_count": 91,
     "metadata": {},
     "output_type": "execute_result"
    }
   ],
   "source": [
    "df.head(7)"
   ]
  },
  {
   "cell_type": "code",
   "execution_count": 12,
   "metadata": {},
   "outputs": [
    {
     "data": {
      "text/html": [
       "<div>\n",
       "<style>\n",
       "    .dataframe thead tr:only-child th {\n",
       "        text-align: right;\n",
       "    }\n",
       "\n",
       "    .dataframe thead th {\n",
       "        text-align: left;\n",
       "    }\n",
       "\n",
       "    .dataframe tbody tr th {\n",
       "        vertical-align: top;\n",
       "    }\n",
       "</style>\n",
       "<table border=\"1\" class=\"dataframe\">\n",
       "  <thead>\n",
       "    <tr style=\"text-align: right;\">\n",
       "      <th></th>\n",
       "      <th>id</th>\n",
       "      <th>dataset</th>\n",
       "      <th>x</th>\n",
       "      <th>y</th>\n",
       "    </tr>\n",
       "  </thead>\n",
       "  <tbody>\n",
       "    <tr>\n",
       "      <th>39</th>\n",
       "      <td>39</td>\n",
       "      <td>IV</td>\n",
       "      <td>8.0</td>\n",
       "      <td>5.25</td>\n",
       "    </tr>\n",
       "    <tr>\n",
       "      <th>40</th>\n",
       "      <td>40</td>\n",
       "      <td>IV</td>\n",
       "      <td>19.0</td>\n",
       "      <td>12.50</td>\n",
       "    </tr>\n",
       "    <tr>\n",
       "      <th>41</th>\n",
       "      <td>41</td>\n",
       "      <td>IV</td>\n",
       "      <td>8.0</td>\n",
       "      <td>5.56</td>\n",
       "    </tr>\n",
       "    <tr>\n",
       "      <th>42</th>\n",
       "      <td>42</td>\n",
       "      <td>IV</td>\n",
       "      <td>8.0</td>\n",
       "      <td>7.91</td>\n",
       "    </tr>\n",
       "    <tr>\n",
       "      <th>43</th>\n",
       "      <td>43</td>\n",
       "      <td>IV</td>\n",
       "      <td>8.0</td>\n",
       "      <td>6.89</td>\n",
       "    </tr>\n",
       "  </tbody>\n",
       "</table>\n",
       "</div>"
      ],
      "text/plain": [
       "    id dataset     x      y\n",
       "39  39      IV   8.0   5.25\n",
       "40  40      IV  19.0  12.50\n",
       "41  41      IV   8.0   5.56\n",
       "42  42      IV   8.0   7.91\n",
       "43  43      IV   8.0   6.89"
      ]
     },
     "execution_count": 12,
     "metadata": {},
     "output_type": "execute_result"
    }
   ],
   "source": [
    "df.tail()"
   ]
  },
  {
   "cell_type": "markdown",
   "metadata": {},
   "source": [
    "### 3.5 Descriptive Statistics.\n",
    "For each of the datasets I have calculated the following:\n",
    "Mean, Standard Deviation, and Correlation. I also included the Min and Max although these have little relevance to the later analysis.\n",
    "\n",
    "The results for each dataset are displayed in order starting with the results for dataset I. I used the .loc function to slice the data into its respective datasets. I did try to exclude the \"id\" column from the operations but was unable to do so. I kept getting an error message."
   ]
  },
  {
   "cell_type": "markdown",
   "metadata": {},
   "source": [
    "#### Descriptive Statistics Dataset I"
   ]
  },
  {
   "cell_type": "code",
   "execution_count": 96,
   "metadata": {},
   "outputs": [
    {
     "data": {
      "text/plain": [
       "id    5.000000\n",
       "x     9.000000\n",
       "y     7.500909\n",
       "dtype: float64"
      ]
     },
     "execution_count": 96,
     "metadata": {},
     "output_type": "execute_result"
    }
   ],
   "source": [
    "# Mean for Dataset I\n",
    "df[df.loc[:,'dataset']=='I'].mean()"
   ]
  },
  {
   "cell_type": "code",
   "execution_count": 56,
   "metadata": {},
   "outputs": [
    {
     "data": {
      "text/plain": [
       "id            0\n",
       "dataset       I\n",
       "x             4\n",
       "y          4.26\n",
       "dtype: object"
      ]
     },
     "execution_count": 56,
     "metadata": {},
     "output_type": "execute_result"
    }
   ],
   "source": [
    "# Min for Dataset I\n",
    "df[df.loc[:,'dataset']=='I'].min()"
   ]
  },
  {
   "cell_type": "code",
   "execution_count": 58,
   "metadata": {},
   "outputs": [
    {
     "data": {
      "text/plain": [
       "id            10\n",
       "dataset        I\n",
       "x             14\n",
       "y          10.84\n",
       "dtype: object"
      ]
     },
     "execution_count": 58,
     "metadata": {},
     "output_type": "execute_result"
    }
   ],
   "source": [
    "# Max for Dataset I\n",
    "df[df.loc[:,'dataset']=='I'].max()"
   ]
  },
  {
   "cell_type": "code",
   "execution_count": 66,
   "metadata": {},
   "outputs": [
    {
     "data": {
      "text/plain": [
       "id    3.316625\n",
       "x     3.316625\n",
       "y     2.031568\n",
       "dtype: float64"
      ]
     },
     "execution_count": 66,
     "metadata": {},
     "output_type": "execute_result"
    }
   ],
   "source": [
    "# Standard Deviation for Dataset I\n",
    "df[df.loc[:,'dataset']=='I'].std()"
   ]
  },
  {
   "cell_type": "code",
   "execution_count": 67,
   "metadata": {},
   "outputs": [
    {
     "data": {
      "text/html": [
       "<div>\n",
       "<style>\n",
       "    .dataframe thead tr:only-child th {\n",
       "        text-align: right;\n",
       "    }\n",
       "\n",
       "    .dataframe thead th {\n",
       "        text-align: left;\n",
       "    }\n",
       "\n",
       "    .dataframe tbody tr th {\n",
       "        vertical-align: top;\n",
       "    }\n",
       "</style>\n",
       "<table border=\"1\" class=\"dataframe\">\n",
       "  <thead>\n",
       "    <tr style=\"text-align: right;\">\n",
       "      <th></th>\n",
       "      <th>id</th>\n",
       "      <th>x</th>\n",
       "      <th>y</th>\n",
       "    </tr>\n",
       "  </thead>\n",
       "  <tbody>\n",
       "    <tr>\n",
       "      <th>id</th>\n",
       "      <td>1.000000</td>\n",
       "      <td>-0.427273</td>\n",
       "      <td>-0.307660</td>\n",
       "    </tr>\n",
       "    <tr>\n",
       "      <th>x</th>\n",
       "      <td>-0.427273</td>\n",
       "      <td>1.000000</td>\n",
       "      <td>0.816421</td>\n",
       "    </tr>\n",
       "    <tr>\n",
       "      <th>y</th>\n",
       "      <td>-0.307660</td>\n",
       "      <td>0.816421</td>\n",
       "      <td>1.000000</td>\n",
       "    </tr>\n",
       "  </tbody>\n",
       "</table>\n",
       "</div>"
      ],
      "text/plain": [
       "          id         x         y\n",
       "id  1.000000 -0.427273 -0.307660\n",
       "x  -0.427273  1.000000  0.816421\n",
       "y  -0.307660  0.816421  1.000000"
      ]
     },
     "execution_count": 67,
     "metadata": {},
     "output_type": "execute_result"
    }
   ],
   "source": [
    "# Correlation for Dataset I\n",
    "df[df.loc[:,'dataset']=='I'].corr()"
   ]
  },
  {
   "cell_type": "markdown",
   "metadata": {},
   "source": [
    "#### Descriptive Statistics Dataset II"
   ]
  },
  {
   "cell_type": "code",
   "execution_count": 70,
   "metadata": {},
   "outputs": [
    {
     "data": {
      "text/plain": [
       "id    16.000000\n",
       "x      9.000000\n",
       "y      7.500909\n",
       "dtype: float64"
      ]
     },
     "execution_count": 70,
     "metadata": {},
     "output_type": "execute_result"
    }
   ],
   "source": [
    "# Mean for Dataset II\n",
    "df[df.loc[:,'dataset']=='II'].mean()"
   ]
  },
  {
   "cell_type": "code",
   "execution_count": 72,
   "metadata": {},
   "outputs": [
    {
     "data": {
      "text/plain": [
       "id          11\n",
       "dataset     II\n",
       "x            4\n",
       "y          3.1\n",
       "dtype: object"
      ]
     },
     "execution_count": 72,
     "metadata": {},
     "output_type": "execute_result"
    }
   ],
   "source": [
    "# Min for Dataset II\n",
    "df[df.loc[:,'dataset']=='II'].min()"
   ]
  },
  {
   "cell_type": "code",
   "execution_count": 75,
   "metadata": {},
   "outputs": [
    {
     "data": {
      "text/plain": [
       "id           21\n",
       "dataset      II\n",
       "x            14\n",
       "y          9.26\n",
       "dtype: object"
      ]
     },
     "execution_count": 75,
     "metadata": {},
     "output_type": "execute_result"
    }
   ],
   "source": [
    "# Max for Dataset II\n",
    "df[df.loc[:,'dataset']=='II'].max()"
   ]
  },
  {
   "cell_type": "code",
   "execution_count": 76,
   "metadata": {},
   "outputs": [
    {
     "data": {
      "text/plain": [
       "id    3.316625\n",
       "x     3.316625\n",
       "y     2.031657\n",
       "dtype: float64"
      ]
     },
     "execution_count": 76,
     "metadata": {},
     "output_type": "execute_result"
    }
   ],
   "source": [
    "# Standard Deviation for Dataset II\n",
    "df[df.loc[:,'dataset']=='II'].std()"
   ]
  },
  {
   "cell_type": "code",
   "execution_count": 77,
   "metadata": {},
   "outputs": [
    {
     "data": {
      "text/html": [
       "<div>\n",
       "<style>\n",
       "    .dataframe thead tr:only-child th {\n",
       "        text-align: right;\n",
       "    }\n",
       "\n",
       "    .dataframe thead th {\n",
       "        text-align: left;\n",
       "    }\n",
       "\n",
       "    .dataframe tbody tr th {\n",
       "        vertical-align: top;\n",
       "    }\n",
       "</style>\n",
       "<table border=\"1\" class=\"dataframe\">\n",
       "  <thead>\n",
       "    <tr style=\"text-align: right;\">\n",
       "      <th></th>\n",
       "      <th>id</th>\n",
       "      <th>x</th>\n",
       "      <th>y</th>\n",
       "    </tr>\n",
       "  </thead>\n",
       "  <tbody>\n",
       "    <tr>\n",
       "      <th>id</th>\n",
       "      <td>1.000000</td>\n",
       "      <td>-0.427273</td>\n",
       "      <td>-0.576115</td>\n",
       "    </tr>\n",
       "    <tr>\n",
       "      <th>x</th>\n",
       "      <td>-0.427273</td>\n",
       "      <td>1.000000</td>\n",
       "      <td>0.816237</td>\n",
       "    </tr>\n",
       "    <tr>\n",
       "      <th>y</th>\n",
       "      <td>-0.576115</td>\n",
       "      <td>0.816237</td>\n",
       "      <td>1.000000</td>\n",
       "    </tr>\n",
       "  </tbody>\n",
       "</table>\n",
       "</div>"
      ],
      "text/plain": [
       "          id         x         y\n",
       "id  1.000000 -0.427273 -0.576115\n",
       "x  -0.427273  1.000000  0.816237\n",
       "y  -0.576115  0.816237  1.000000"
      ]
     },
     "execution_count": 77,
     "metadata": {},
     "output_type": "execute_result"
    }
   ],
   "source": [
    "# Correlation for Dataset II\n",
    "df[df.loc[:,'dataset']=='II'].corr()"
   ]
  },
  {
   "cell_type": "markdown",
   "metadata": {},
   "source": [
    "#### Descriptive Statistics Dataset III"
   ]
  },
  {
   "cell_type": "code",
   "execution_count": 78,
   "metadata": {},
   "outputs": [
    {
     "data": {
      "text/plain": [
       "id    27.0\n",
       "x      9.0\n",
       "y      7.5\n",
       "dtype: float64"
      ]
     },
     "execution_count": 78,
     "metadata": {},
     "output_type": "execute_result"
    }
   ],
   "source": [
    "# Mean for Dataset III\n",
    "df[df.loc[:,'dataset']=='III'].mean()"
   ]
  },
  {
   "cell_type": "code",
   "execution_count": 79,
   "metadata": {},
   "outputs": [
    {
     "data": {
      "text/plain": [
       "id           22\n",
       "dataset     III\n",
       "x             4\n",
       "y          5.39\n",
       "dtype: object"
      ]
     },
     "execution_count": 79,
     "metadata": {},
     "output_type": "execute_result"
    }
   ],
   "source": [
    "# Min for Dataset III\n",
    "df[df.loc[:,'dataset']=='III'].min()"
   ]
  },
  {
   "cell_type": "code",
   "execution_count": 80,
   "metadata": {},
   "outputs": [
    {
     "data": {
      "text/plain": [
       "id            32\n",
       "dataset      III\n",
       "x             14\n",
       "y          12.74\n",
       "dtype: object"
      ]
     },
     "execution_count": 80,
     "metadata": {},
     "output_type": "execute_result"
    }
   ],
   "source": [
    "# Max for Dataset III\n",
    "df[df.loc[:,'dataset']=='III'].max()"
   ]
  },
  {
   "cell_type": "code",
   "execution_count": 81,
   "metadata": {},
   "outputs": [
    {
     "data": {
      "text/plain": [
       "id    3.316625\n",
       "x     3.316625\n",
       "y     2.030424\n",
       "dtype: float64"
      ]
     },
     "execution_count": 81,
     "metadata": {},
     "output_type": "execute_result"
    }
   ],
   "source": [
    "# Standard Deviation for Dataset III\n",
    "df[df.loc[:,'dataset']=='III'].std()"
   ]
  },
  {
   "cell_type": "code",
   "execution_count": 82,
   "metadata": {},
   "outputs": [
    {
     "data": {
      "text/html": [
       "<div>\n",
       "<style>\n",
       "    .dataframe thead tr:only-child th {\n",
       "        text-align: right;\n",
       "    }\n",
       "\n",
       "    .dataframe thead th {\n",
       "        text-align: left;\n",
       "    }\n",
       "\n",
       "    .dataframe tbody tr th {\n",
       "        vertical-align: top;\n",
       "    }\n",
       "</style>\n",
       "<table border=\"1\" class=\"dataframe\">\n",
       "  <thead>\n",
       "    <tr style=\"text-align: right;\">\n",
       "      <th></th>\n",
       "      <th>id</th>\n",
       "      <th>x</th>\n",
       "      <th>y</th>\n",
       "    </tr>\n",
       "  </thead>\n",
       "  <tbody>\n",
       "    <tr>\n",
       "      <th>id</th>\n",
       "      <td>1.000000</td>\n",
       "      <td>-0.427273</td>\n",
       "      <td>-0.430492</td>\n",
       "    </tr>\n",
       "    <tr>\n",
       "      <th>x</th>\n",
       "      <td>-0.427273</td>\n",
       "      <td>1.000000</td>\n",
       "      <td>0.816287</td>\n",
       "    </tr>\n",
       "    <tr>\n",
       "      <th>y</th>\n",
       "      <td>-0.430492</td>\n",
       "      <td>0.816287</td>\n",
       "      <td>1.000000</td>\n",
       "    </tr>\n",
       "  </tbody>\n",
       "</table>\n",
       "</div>"
      ],
      "text/plain": [
       "          id         x         y\n",
       "id  1.000000 -0.427273 -0.430492\n",
       "x  -0.427273  1.000000  0.816287\n",
       "y  -0.430492  0.816287  1.000000"
      ]
     },
     "execution_count": 82,
     "metadata": {},
     "output_type": "execute_result"
    }
   ],
   "source": [
    "# Correlation for Dataset III\n",
    "df[df.loc[:,'dataset']=='III'].corr()"
   ]
  },
  {
   "cell_type": "markdown",
   "metadata": {},
   "source": [
    "#### Descriptive Statistics Dataset IV"
   ]
  },
  {
   "cell_type": "code",
   "execution_count": 83,
   "metadata": {},
   "outputs": [
    {
     "data": {
      "text/plain": [
       "id    38.000000\n",
       "x      9.000000\n",
       "y      7.500909\n",
       "dtype: float64"
      ]
     },
     "execution_count": 83,
     "metadata": {},
     "output_type": "execute_result"
    }
   ],
   "source": [
    "# Mean for Dataset IV\n",
    "df[df.loc[:,'dataset']=='IV'].mean()"
   ]
  },
  {
   "cell_type": "code",
   "execution_count": 84,
   "metadata": {},
   "outputs": [
    {
     "data": {
      "text/plain": [
       "id           33\n",
       "dataset      IV\n",
       "x             8\n",
       "y          5.25\n",
       "dtype: object"
      ]
     },
     "execution_count": 84,
     "metadata": {},
     "output_type": "execute_result"
    }
   ],
   "source": [
    "# Min for Dataset IV\n",
    "df[df.loc[:,'dataset']=='IV'].min()"
   ]
  },
  {
   "cell_type": "code",
   "execution_count": 85,
   "metadata": {},
   "outputs": [
    {
     "data": {
      "text/plain": [
       "id           43\n",
       "dataset      IV\n",
       "x            19\n",
       "y          12.5\n",
       "dtype: object"
      ]
     },
     "execution_count": 85,
     "metadata": {},
     "output_type": "execute_result"
    }
   ],
   "source": [
    "# Max for Dataset IV\n",
    "df[df.loc[:,'dataset']=='IV'].max()"
   ]
  },
  {
   "cell_type": "code",
   "execution_count": 86,
   "metadata": {},
   "outputs": [
    {
     "data": {
      "text/plain": [
       "id    3.316625\n",
       "x     3.316625\n",
       "y     2.030579\n",
       "dtype: float64"
      ]
     },
     "execution_count": 86,
     "metadata": {},
     "output_type": "execute_result"
    }
   ],
   "source": [
    "# Standard Deviation for Dataset IV\n",
    "df[df.loc[:,'dataset']=='IV'].std()"
   ]
  },
  {
   "cell_type": "code",
   "execution_count": 87,
   "metadata": {},
   "outputs": [
    {
     "data": {
      "text/html": [
       "<div>\n",
       "<style>\n",
       "    .dataframe thead tr:only-child th {\n",
       "        text-align: right;\n",
       "    }\n",
       "\n",
       "    .dataframe thead th {\n",
       "        text-align: left;\n",
       "    }\n",
       "\n",
       "    .dataframe tbody tr th {\n",
       "        vertical-align: top;\n",
       "    }\n",
       "</style>\n",
       "<table border=\"1\" class=\"dataframe\">\n",
       "  <thead>\n",
       "    <tr style=\"text-align: right;\">\n",
       "      <th></th>\n",
       "      <th>id</th>\n",
       "      <th>x</th>\n",
       "      <th>y</th>\n",
       "    </tr>\n",
       "  </thead>\n",
       "  <tbody>\n",
       "    <tr>\n",
       "      <th>id</th>\n",
       "      <td>1.000000</td>\n",
       "      <td>0.200000</td>\n",
       "      <td>0.115819</td>\n",
       "    </tr>\n",
       "    <tr>\n",
       "      <th>x</th>\n",
       "      <td>0.200000</td>\n",
       "      <td>1.000000</td>\n",
       "      <td>0.816521</td>\n",
       "    </tr>\n",
       "    <tr>\n",
       "      <th>y</th>\n",
       "      <td>0.115819</td>\n",
       "      <td>0.816521</td>\n",
       "      <td>1.000000</td>\n",
       "    </tr>\n",
       "  </tbody>\n",
       "</table>\n",
       "</div>"
      ],
      "text/plain": [
       "          id         x         y\n",
       "id  1.000000  0.200000  0.115819\n",
       "x   0.200000  1.000000  0.816521\n",
       "y   0.115819  0.816521  1.000000"
      ]
     },
     "execution_count": 87,
     "metadata": {},
     "output_type": "execute_result"
    }
   ],
   "source": [
    "# Correlation for Dataset IV\n",
    "df[df.loc[:,'dataset']=='IV'].corr()"
   ]
  },
  {
   "cell_type": "markdown",
   "metadata": {},
   "source": [
    "## 4. Why the dataset is interesting.\n",
    "The mean of each of the datasets is identical. Mean of X is 9 and the Mean of Y is 7.5.\n",
    "The Standard Deviation for the X axis in all of the datasets is identical, 3.316625. The Standard Deviation for the Y axis is identical to two decimal places.\n",
    "\n",
    "The Correlation between X and Y axis for each of the datasets is idential to three decimal places. Given the relationships that exists between the 'Descriptive Statistics' one could reasonably assume that the dataset are almost identical. It is only when the datasets are visualised that the differences become apparent. This of course was the objective when Anscombe generated the datasets.\n",
    "\n",
    "When the datasets are compared visually the differences really become apparent. In Section 2 above the datasets are plotted, first individually then together. This demonstrates the differneces between the datasets that is not apparent when the datasets are compared numerically. \n",
    "\n",
    "Anscombes Quartet also shows how outliers can go unnoticed when using Descriptive Statistics but are easily seen when the data is visualised. The plots for datasets III and IV clearly show the outliers in each set.\n",
    "\n",
    "To plot the reference line I used the minimum and maximum X and Y values for the first dataset. For consistency I applied this reference line to each plot.  \n",
    "\n",
    "Anscombes Quartet is a great example of the benefits of representing data visually and the flaws inherent in relying purely on Descriptive Statistics."
   ]
  },
  {
   "cell_type": "markdown",
   "metadata": {
    "collapsed": true
   },
   "source": [
    "## References\n",
    "\n",
    "Wikipedia.org, Frank Anscombe, accessed on 6th of November 2018, https://en.wikipedia.org/wiki/Frank_Anscombe\n",
    "\n",
    "Wikipedia.org, Anscombe's Quartet, accessed on 6th of November 2018, https://en.wikipedia.org/wiki/Anscombe%27s_quartet\n",
    "\n",
    "Anscombe,F.J.(1973) Graphs in Statistical Analysis. The American Statistican 27(1), 17-21.\n",
    "\n",
    "Chatterjee, S., & Firat, A. (2007). Generating Data with Identical Statistics but Dissimilar Graphics: A Follow up to the Anscombe Dataset. The American Statistician, 61(3), 248-254.\n",
    "\n",
    "Pandas.pydata.org, pandas: powerful python data analysis tool kit , accessed on 7th November 2018,\n",
    "https://pandas.pydata.org/pandas-docs/stable/\n",
    "\n",
    "Pandas.pydata.org, documentation, accessed on 10th of November 2018, https://pandas.pydata.org/pandas-docs/stable/index.html\n",
    "\n",
    "Onlinestatbook.com, Descriptive Statistics, accessed on 10 of November 2018, http://onlinestatbook.com/2/introduction/descriptive.html\n",
    "\n",
    "Campuslabs.com, Types of Descriptive Statistics, accessed on 10th of November, https://baselinesupport.campuslabs.com/hc/en-us/articles/204305665-Types-of-Descriptive-Statistics"
   ]
  },
  {
   "cell_type": "code",
   "execution_count": null,
   "metadata": {
    "collapsed": true
   },
   "outputs": [],
   "source": []
  }
 ],
 "metadata": {
  "kernelspec": {
   "display_name": "Python 3",
   "language": "python",
   "name": "python3"
  },
  "language_info": {
   "codemirror_mode": {
    "name": "ipython",
    "version": 3
   },
   "file_extension": ".py",
   "mimetype": "text/x-python",
   "name": "python",
   "nbconvert_exporter": "python",
   "pygments_lexer": "ipython3",
   "version": "3.6.3"
  }
 },
 "nbformat": 4,
 "nbformat_minor": 2
}
